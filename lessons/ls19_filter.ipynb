{
 "cells": [
  {
   "cell_type": "code",
   "execution_count": null,
   "metadata": {},
   "outputs": [],
   "source": [
    "col_data: dict[str, list[float]] = {\n",
    "    \"high\": [77, 84, 78, 79, 65, 67, 74, 61, 55, 61],\n",
    "    \"low\": [67, 51, 64, 45, 43, 53, 56, 37, 34, 42], \n",
    "    \"rain\": [.3, .2, .4, .8, 0., .2, .4, .5, .1, .1]\n",
    "}\n"
   ]
  },
  {
   "cell_type": "code",
   "execution_count": null,
   "metadata": {},
   "outputs": [],
   "source": [
    "def less_than(col: list[float], threshold: float) -> list[bool]: \n",
    "    result: list[bool] = []\n",
    "    for item in col: \n",
    "        result.append(item < threshold)\n",
    "    return result \n",
    "\n",
    "no_rain_mask: list[bool] = less_than(col_data[\"rain\"], 0.3)"
   ]
  },
  {
   "cell_type": "code",
   "execution_count": null,
   "metadata": {},
   "outputs": [],
   "source": [
    "def masked(col: list[float], mask: list[bool]) -> list[float]: \n",
    "    result: list[float] = []\n",
    "    for i in range(len(mask)): \n",
    "        if mask[i]: \n",
    "            result.append(col[i])\n",
    "    return result \n",
    "\n",
    "highs_of_no_rain_days: list[float] = masked(col_data[\"high\"], no_rain_mask)"
   ]
  },
  {
   "cell_type": "code",
   "execution_count": null,
   "metadata": {},
   "outputs": [],
   "source": [
    "def mean(col: list[float]) -> float: \n",
    "    return sum(col) / len(col)\n",
    "    "
   ]
  },
  {
   "cell_type": "code",
   "execution_count": 2,
   "metadata": {},
   "outputs": [
    {
     "ename": "NameError",
     "evalue": "name 'col_data' is not defined",
     "output_type": "error",
     "traceback": [
      "\u001b[0;31m---------------------------------------------------------------------------\u001b[0m",
      "\u001b[0;31mNameError\u001b[0m                                 Traceback (most recent call last)",
      "\u001b[1;32m/Users/avishisingh/comp110-22f-workspace/lessons/ls19_filter.ipynb Cell 5\u001b[0m in \u001b[0;36m<cell line: 7>\u001b[0;34m()\u001b[0m\n\u001b[1;32m      <a href='vscode-notebook-cell:/Users/avishisingh/comp110-22f-workspace/lessons/ls19_filter.ipynb#W4sZmlsZQ%3D%3D?line=3'>4</a>\u001b[0m         result\u001b[39m.\u001b[39mappend(item \u001b[39m<\u001b[39m threshold)\n\u001b[1;32m      <a href='vscode-notebook-cell:/Users/avishisingh/comp110-22f-workspace/lessons/ls19_filter.ipynb#W4sZmlsZQ%3D%3D?line=4'>5</a>\u001b[0m     \u001b[39mreturn\u001b[39;00m result \n\u001b[0;32m----> <a href='vscode-notebook-cell:/Users/avishisingh/comp110-22f-workspace/lessons/ls19_filter.ipynb#W4sZmlsZQ%3D%3D?line=6'>7</a>\u001b[0m no_rain_mask: \u001b[39mlist\u001b[39m[\u001b[39mbool\u001b[39m] \u001b[39m=\u001b[39m less_than(col_data[\u001b[39m\"\u001b[39m\u001b[39mrain\u001b[39m\u001b[39m\"\u001b[39m], \u001b[39m0.3\u001b[39m)\n\u001b[1;32m      <a href='vscode-notebook-cell:/Users/avishisingh/comp110-22f-workspace/lessons/ls19_filter.ipynb#W4sZmlsZQ%3D%3D?line=8'>9</a>\u001b[0m \u001b[39mdef\u001b[39;00m \u001b[39mnot_mask\u001b[39m(mask: \u001b[39mlist\u001b[39m[\u001b[39mbool\u001b[39m]) \u001b[39m-\u001b[39m\u001b[39m>\u001b[39m \u001b[39mlist\u001b[39m[\u001b[39mbool\u001b[39m]:\n\u001b[1;32m     <a href='vscode-notebook-cell:/Users/avishisingh/comp110-22f-workspace/lessons/ls19_filter.ipynb#W4sZmlsZQ%3D%3D?line=9'>10</a>\u001b[0m   result: \u001b[39mlist\u001b[39m[\u001b[39mbool\u001b[39m] \u001b[39m=\u001b[39m []\n",
      "\u001b[0;31mNameError\u001b[0m: name 'col_data' is not defined"
     ]
    }
   ],
   "source": [
    "def less_than(col: list[float], threshold: float) -> list[bool]: \n",
    "    result: list[bool] = []\n",
    "    for item in col: \n",
    "        result.append(item < threshold)\n",
    "    return result \n",
    "\n",
    "no_rain_mask: list[bool] = less_than(col_data[\"rain\"], 0.3)\n",
    "\n",
    "def not_mask(mask: list[bool]) -> list[bool]:\n",
    "  result: list[bool] = []\n",
    "  for item in mask:\n",
    "    result.append(not item)\n",
    "  return result\n",
    "\n",
    "mask_a: list[bool] = less_than(col_data[\"high\"], 80)\n",
    "mask_b: list[bool] = not_mask(mask_a)\n",
    "\n",
    "values: list[float] = masked(col_data[\"low\"], mask_b)\n",
    "print(mean(values))\n",
    "\n"
   ]
  }
 ],
 "metadata": {
  "kernelspec": {
   "display_name": "Python 3.10.6 64-bit",
   "language": "python",
   "name": "python3"
  },
  "language_info": {
   "codemirror_mode": {
    "name": "ipython",
    "version": 3
   },
   "file_extension": ".py",
   "mimetype": "text/x-python",
   "name": "python",
   "nbconvert_exporter": "python",
   "pygments_lexer": "ipython3",
   "version": "3.10.6"
  },
  "orig_nbformat": 4,
  "vscode": {
   "interpreter": {
    "hash": "aee8b7b246df8f9039afb4144a1f6fd8d2ca17a180786b69acc140d282b71a49"
   }
  }
 },
 "nbformat": 4,
 "nbformat_minor": 2
}
